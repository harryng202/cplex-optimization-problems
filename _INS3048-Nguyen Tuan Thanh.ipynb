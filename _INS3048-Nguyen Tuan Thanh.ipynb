{
 "cells": [
  {
   "cell_type": "markdown",
   "id": "a5df3e37",
   "metadata": {},
   "source": [
    "**Name:** Nguyễn Tuấn Thành\n",
    "\n",
    "**ID:** 20070980"
   ]
  },
  {
   "cell_type": "code",
   "execution_count": 2,
   "id": "2806af0c",
   "metadata": {},
   "outputs": [
    {
     "name": "stdout",
     "output_type": "stream",
     "text": [
      "Requirement already satisfied: docplex in c:\\users\\linhmobile\\anaconda3\\lib\\site-packages (2.25.236)\n",
      "Requirement already satisfied: six in c:\\users\\linhmobile\\anaconda3\\lib\\site-packages (from docplex) (1.16.0)\n",
      "Note: you may need to restart the kernel to use updated packages.\n"
     ]
    }
   ],
   "source": [
    "pip install docplex"
   ]
  },
  {
   "cell_type": "code",
   "execution_count": 5,
   "id": "40edd0da",
   "metadata": {},
   "outputs": [],
   "source": [
    "import cplex\n",
    "from cplex import Cplex\n",
    "from docplex.mp.model import Model"
   ]
  },
  {
   "cell_type": "markdown",
   "id": "f25ace1c",
   "metadata": {},
   "source": [
    "# LINEAR PROGRAMMING"
   ]
  },
  {
   "cell_type": "markdown",
   "id": "875e03f7",
   "metadata": {},
   "source": [
    "**Problem:** The store needs to decide how many units of two different products, Product X and Product Y, to order from the supplier to maximize profit while considering budget constraints and storage capacity.\n",
    "\n",
    "**Objective:**\n",
    "Maximize Profit = 8 * (Number of units of Product X) + 12 * (Number of units of Product Y)\n",
    "\n",
    "**Constraints:**\n",
    "1. Each unit of Product X costs \\$5, and each unit of Product Y costs 8.\n",
    "2. The store has a budget constraint of \\$1,200.\n",
    "3. The store has limited storage capacity for both products. The maximum storage capacity for Product X is 200 units, and for Product Y, it is 150 units."
   ]
  },
  {
   "cell_type": "code",
   "execution_count": 6,
   "id": "828304b6",
   "metadata": {},
   "outputs": [
    {
     "name": "stdout",
     "output_type": "stream",
     "text": [
      "Optimal Profit: 1900.0\n",
      "Optimal Inventory Plan:\n",
      "Number of units of Product X = 200.0\n",
      "Number of units of Product Y = 25.0\n"
     ]
    }
   ],
   "source": [
    "from docplex.mp.model import Model\n",
    "\n",
    "# Create a model\n",
    "inventory_model = Model(name='inventory_management')\n",
    "\n",
    "# Add decision variables\n",
    "x = inventory_model.integer_var(name='x', lb=0, ub=200)  # Number of units of Product X\n",
    "y = inventory_model.integer_var(name='y', lb=0, ub=150)  # Number of units of Product Y\n",
    "\n",
    "# Define the objective function\n",
    "inventory_model.maximize(8 * x + 12 * y)\n",
    "\n",
    "# Add constraints\n",
    "inventory_model.add_constraint(5 * x + 8 * y <= 1200)  # Budget constraint\n",
    "inventory_model.add_constraint(x <= 200)  # Storage capacity for Product X\n",
    "inventory_model.add_constraint(y <= 150)  # Storage capacity for Product Y\n",
    "\n",
    "# Solve the model\n",
    "inventory_model.solve()\n",
    "\n",
    "# Display the results\n",
    "print(\"Optimal Profit:\", inventory_model.objective_value)\n",
    "print(\"Optimal Inventory Plan:\")\n",
    "print(\"Number of units of Product X =\", x.solution_value)\n",
    "print(\"Number of units of Product Y =\", y.solution_value)\n"
   ]
  },
  {
   "cell_type": "markdown",
   "id": "3738be53",
   "metadata": {},
   "source": [
    "# INTERGER LINEAR PROGRAMMING\n"
   ]
  },
  {
   "cell_type": "markdown",
   "id": "64ab9ee9",
   "metadata": {},
   "source": [
    "**Production Planning Problem**\n",
    "\n",
    "A manufacturing company produces three types of products: ProductA, ProductB, and ProductC. The objective is to maximize the total profit by determining the optimal quantity to produce for each product.\n",
    "\n",
    "**Decision Variables:**\n",
    "- xi: The quantity of product \\(i\\) to be produced (integer decision variables).\n",
    "\n",
    "**Objective Function:**\n",
    "Maximize the total profit, which is the sum of the individual profits for each product multiplied by its production quantity.\n",
    "\n",
    "Maximize Z = 15xProductA + 15xProductB + 12xProductC\n",
    "\n",
    "**Constraints:**\n",
    "1. **Machine 1 Capacity:** The total production hours for ProductA, ProductB, and ProductC on Machine 1 should not exceed its capacity of 100 hours.\n",
    "2xProductA + 3xProductB + xProductC <= 100\n",
    "\n",
    "2. **Machine 2 Capacity:** The total production hours for ProductA, ProductB, and ProductC on Machine 2 should not exceed its capacity of 150 hours.\n",
    "4xProductA + 2xProductB + 3xProductC <= 150\n",
    "\n",
    "3. **Machine 3 Capacity:** The total production hours for ProductA, ProductB, and ProductC on Machine 3 should not exceed its capacity of 80 hours.\n",
    "xProductA + xProductB + 2xProductC <= 80"
   ]
  },
  {
   "cell_type": "code",
   "execution_count": 13,
   "id": "9724aef5",
   "metadata": {},
   "outputs": [
    {
     "name": "stdout",
     "output_type": "stream",
     "text": [
      "Optimal Solution:\n",
      "ProductA: 9.0\n",
      "ProductB: 19.0\n",
      "ProductC: 25.0\n",
      "Total Profit: 720.0\n"
     ]
    }
   ],
   "source": [
    "# Step 1: Model Initialization\n",
    "production_model = Model(name='ProductionPlanning')\n",
    "\n",
    "# Step 2: Decision Variables\n",
    "products = ['ProductA', 'ProductB', 'ProductC']\n",
    "x = production_model.integer_var_dict(products, name='x')\n",
    "\n",
    "# Step 3: Objective Function\n",
    "profits = {'ProductA': 15, 'ProductB': 15, 'ProductC': 12}\n",
    "production_model.maximize(production_model.sum(profits[i] * x[i] for i in products))\n",
    "\n",
    "# Step 4: Production Capacity Constraints\n",
    "machine1_capacity = 100\n",
    "machine2_capacity = 150\n",
    "machine3_capacity = 80\n",
    "\n",
    "machine1_hours = {'ProductA': 2, 'ProductB': 3, 'ProductC': 1}\n",
    "machine2_hours = {'ProductA': 4, 'ProductB': 2, 'ProductC': 3}\n",
    "machine3_hours = {'ProductA': 1, 'ProductB': 1, 'ProductC': 2}\n",
    "\n",
    "production_model.add_constraint(production_model.sum(machine1_hours[i] * x[i] for i in products) <= machine1_capacity)\n",
    "production_model.add_constraint(production_model.sum(machine2_hours[i] * x[i] for i in products) <= machine2_capacity)\n",
    "production_model.add_constraint(production_model.sum(machine3_hours[i] * x[i] for i in products) <= machine3_capacity)\n",
    "\n",
    "# Step 5: Model Solving\n",
    "production_model.solve()\n",
    "\n",
    "# Step 6: Results Display\n",
    "if production_model.solution:\n",
    "    print(\"Optimal Solution:\")\n",
    "    for i in products:\n",
    "        print(f\"{i}: {production_model.solution.get_value(x[i])}\")\n",
    "    print(f\"Total Profit: {production_model.solution.get_objective_value()}\")\n",
    "else:\n",
    "    print(\"No feasible solution found.\")\n"
   ]
  },
  {
   "cell_type": "code",
   "execution_count": null,
   "id": "c050d8de",
   "metadata": {},
   "outputs": [],
   "source": []
  }
 ],
 "metadata": {
  "kernelspec": {
   "display_name": "Python 3 (ipykernel)",
   "language": "python",
   "name": "python3"
  },
  "language_info": {
   "codemirror_mode": {
    "name": "ipython",
    "version": 3
   },
   "file_extension": ".py",
   "mimetype": "text/x-python",
   "name": "python",
   "nbconvert_exporter": "python",
   "pygments_lexer": "ipython3",
   "version": "3.11.5"
  }
 },
 "nbformat": 4,
 "nbformat_minor": 5
}
